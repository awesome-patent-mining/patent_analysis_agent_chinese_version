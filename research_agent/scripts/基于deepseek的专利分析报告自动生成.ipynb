{
 "cells": [
  {
   "cell_type": "markdown",
   "id": "46198186-8b56-4e73-855c-5cc192098c33",
   "metadata": {},
   "source": [
    "#### 整体逻辑如下\n",
    "##### 1. 先形成技术谱系\n",
    "##### 2. 自动检索\n",
    "##### 3. 根据既定大纲，一个模块一个模块的生成具体内容\n",
    "##### 4. 在每个模块中，有图，有分析"
   ]
  },
  {
   "cell_type": "markdown",
   "id": "c4bef66d-c9c3-4412-97a2-58fca6aa5a88",
   "metadata": {},
   "source": [
    "### 先说步骤一，形成技术谱系\n",
    "#### 先试试直接用prompt，看看生成的技术谱系如何\n",
    "#### 再试试用网络检索，看看生成的技术谱系怎么样"
   ]
  },
  {
   "cell_type": "code",
   "execution_count": null,
   "id": "91393c37-1ef5-42e8-a0e1-4d3fd0fb0208",
   "metadata": {},
   "outputs": [],
   "source": [
    "#先连deepseek\n",
    "#输入"
   ]
  },
  {
   "cell_type": "code",
   "execution_count": 1,
   "id": "919123c5-6906-442c-9010-da59db5f063f",
   "metadata": {},
   "outputs": [],
   "source": [
    "import asyncio\n",
    "import nest_asyncio\n",
    "nest_asyncio.apply()\n",
    "import sys\n",
    "import os\n",
    "# sys.path.append(os.path.abspath('../..'))  # 添加项目根目录到Python路径\n",
    "\n",
    "\n",
    "from dotenv import load_dotenv\n",
    "\n",
    "load_dotenv()\n",
    "\n",
    "topic = \"量子通讯的技术谱系是什么样子\"\n"
   ]
  },
  {
   "cell_type": "code",
   "execution_count": 2,
   "id": "dc924b9a-2104-4c61-b0f8-b206c3735a9d",
   "metadata": {},
   "outputs": [],
   "source": [
    "sys.path.append(os.path.abspath('../..')) "
   ]
  },
  {
   "cell_type": "code",
   "execution_count": 3,
   "id": "6199d277-f107-4217-bc82-14485867990b",
   "metadata": {},
   "outputs": [
    {
     "name": "stderr",
     "output_type": "stream",
     "text": [
      "C:\\Users\\admin\\anaconda3\\envs\\python_class_310\\lib\\site-packages\\pydantic\\_internal\\_config.py:345: UserWarning: Valid config keys have changed in V2:\n",
      "* 'fields' has been removed\n",
      "  warnings.warn(message, UserWarning)\n"
     ]
    }
   ],
   "source": [
    "#我需要有一个\n",
    "from research_agent.core.generate_tech_genealogy import Tech_Gene_Generator\n",
    "techGeneGenerator = Tech_Gene_Generator()\n"
   ]
  },
  {
   "cell_type": "code",
   "execution_count": 4,
   "id": "703548ee-3dde-47cd-b612-4c2cdaf11f84",
   "metadata": {},
   "outputs": [],
   "source": [
    "tech_gene = await techGeneGenerator.generate_tech_genealogy(topic)"
   ]
  },
  {
   "cell_type": "code",
   "execution_count": 5,
   "id": "45522787-cc42-49ec-87ed-9a278d65050d",
   "metadata": {},
   "outputs": [
    {
     "name": "stdout",
     "output_type": "stream",
     "text": [
      "## 1 量子通讯基础理论\n",
      "    ### 1.1 量子力学原理\n",
      "    ### 1.2 量子纠缠理论\n",
      "    ### 1.3 量子隐形传态理论\n",
      "    ### 1.4 量子密码学理论\n",
      "\n",
      "## 2 量子通讯系统设计\n",
      "    ### 2.1 量子信道技术\n",
      "    ### 2.2 量子调制解调技术\n",
      "    ### 2.3 量子中继技术\n",
      "    ### 2.4 量子密钥分发技术\n",
      "\n",
      "## 3 量子通讯设备与器件\n",
      "    ### 3.1 量子光源技术\n",
      "    ### 3.2 量子探测器技术\n",
      "    ### 3.3 量子存储器技术\n",
      "    ### 3.4 量子纠缠源技术\n",
      "\n",
      "## 4 量子通讯网络与安全\n",
      "    ### 4.1 量子网络架构\n",
      "    ### 4.2 量子网络协议\n",
      "    ### 4.3 量子安全认证技术\n",
      "    ### 4.4 量子密钥管理技术\n"
     ]
    }
   ],
   "source": [
    "print(tech_gene)"
   ]
  },
  {
   "cell_type": "code",
   "execution_count": null,
   "id": "7cc919f9-4cae-41b3-8a18-14dcb0fec518",
   "metadata": {},
   "outputs": [],
   "source": [
    "#### 自动检索\n",
    "#### 先拿着这个检索一下试试\n",
    "#### 形成一个数据集"
   ]
  },
  {
   "cell_type": "code",
   "execution_count": null,
   "id": "d60dd4e0-ffb4-424d-8225-a5cfb9ec7dd9",
   "metadata": {},
   "outputs": [],
   "source": [
    "#### 拿着数据集，开始准备生成分析报告\n",
    "#### 先生成专利申请趋势图\n",
    "#### 可以对比全球、美国、中国，也可以对比全球、国外、中国，所以这里需要有一个自然语言到检索式转化的工具，来获取数据\n",
    "#### 获取到数据以后，可以调用绘图工具，来绘制图\n",
    "#### 同时基于所获取的数据，来进行专利分析\n"
   ]
  },
  {
   "cell_type": "code",
   "execution_count": 30,
   "id": "99fbcff5-9271-408a-ac6e-c58b10b4d0b9",
   "metadata": {},
   "outputs": [],
   "source": [
    "# 先获取需要的数据\n",
    "# 可以将数据以df格式存储\n",
    "import pandas as pd"
   ]
  },
  {
   "cell_type": "code",
   "execution_count": 33,
   "id": "75e3e5b9-cbfb-4971-b9b9-b8016c51188b",
   "metadata": {},
   "outputs": [
    {
     "name": "stderr",
     "output_type": "stream",
     "text": [
      "C:\\Users\\admin\\anaconda3\\envs\\python_class_310\\lib\\site-packages\\openpyxl\\styles\\stylesheet.py:237: UserWarning: Workbook contains no default style, apply openpyxl's default\n",
      "  warn(\"Workbook contains no default style, apply openpyxl's default\")\n"
     ]
    }
   ],
   "source": [
    "patent_info = pd.read_excel('C:/Users/admin/patent_survey_draft/20250320012345555.XLSX')"
   ]
  },
  {
   "cell_type": "code",
   "execution_count": 21,
   "id": "a4b0e36c-b8ce-4564-8770-105ae4357c85",
   "metadata": {},
   "outputs": [],
   "source": [
    "import matplotlib.pyplot as plt\n",
    "import matplotlib.dates as mdates\n",
    "\n",
    "def plot_patent_trends(df, figsize=(14, 7)):\n",
    "    \"\"\"\n",
    "    绘制专利申请趋势对比图\n",
    "    参数：\n",
    "        df : DataFrame 需包含年份索引和CN/US/全球三列\n",
    "        figsize : 图表尺寸，默认(14,7)\n",
    "    \"\"\"\n",
    "    plt.figure(figsize=figsize)\n",
    "    \n",
    "    # 转换索引为日期格式\n",
    "    years = df.index.astype(str)\n",
    "    x = pd.to_datetime(years, format='%Y')\n",
    "    \n",
    "    # 绘制趋势线\n",
    "    plt.plot(x, df['CN'], 'r-o', linewidth=2, markersize=6, label='中国')\n",
    "    plt.plot(x, df['US'], 'b--s', linewidth=2, markersize=6, label='美国') \n",
    "    plt.plot(x, df['全球'], 'g-.^', linewidth=2, markersize=6, label='全球')\n",
    "\n",
    "    # 坐标轴格式设置\n",
    "    ax = plt.gca()\n",
    "    ax.xaxis.set_major_locator(mdates.YearLocator(5))  # 5年刻度\n",
    "    ax.xaxis.set_major_formatter(mdates.DateFormatter('%Y'))\n",
    "    plt.xticks(rotation=45)\n",
    "    \n",
    "    # 图表元素\n",
    "    plt.title('实验动物领域专利申请趋势对比（1989-2025）', fontsize=14, pad=20)\n",
    "    plt.xlabel('申请年份', fontsize=12)\n",
    "    plt.ylabel('专利申请量', fontsize=12)\n",
    "    plt.grid(True, linestyle='--', alpha=0.6)\n",
    "    plt.legend(fontsize=12)\n",
    "    \n",
    "    # 数值标注\n",
    "    for col in ['CN', 'US', '全球']:\n",
    "        for x_val, y_val in zip(x, df[col]):\n",
    "            if y_val > 0:  # 仅标注非零值\n",
    "                plt.text(x_val, y_val+2, str(y_val), \n",
    "                        ha='center', va='bottom', \n",
    "                        fontsize=8 if col == 'US' else 9,\n",
    "                        color='blue' if col == 'US' else 'black')\n",
    "    \n",
    "    plt.tight_layout()\n",
    "    return ax\n",
    "\n",
    "\n"
   ]
  },
  {
   "cell_type": "code",
   "execution_count": 23,
   "id": "9c94d93c-edfb-415b-b965-9786ad13def8",
   "metadata": {},
   "outputs": [],
   "source": [
    "import matplotlib.pyplot as plt\n",
    "plt.rcParams['font.sans-serif'] = ['SimHei']  # 设置全局字体\n",
    "plt.rcParams['axes.unicode_minus'] = False  # 解决负号显示问题\n",
    "%matplotlib inline "
   ]
  },
  {
   "cell_type": "code",
   "execution_count": 3,
   "id": "62db94f5-57ab-460d-b318-52bea9e17c02",
   "metadata": {},
   "outputs": [
    {
     "name": "stderr",
     "output_type": "stream",
     "text": [
      "C:\\Users\\admin\\anaconda3\\envs\\python_class_310\\lib\\site-packages\\pydantic\\_internal\\_config.py:345: UserWarning: Valid config keys have changed in V2:\n",
      "* 'fields' has been removed\n",
      "  warnings.warn(message, UserWarning)\n"
     ]
    }
   ],
   "source": [
    "from llama_index.llms.litellm import LiteLLM\n",
    "from llama_index.core import Settings\n",
    "import os\n",
    "from llama_index.core.llms import ChatMessage"
   ]
  },
  {
   "cell_type": "code",
   "execution_count": 4,
   "id": "112b58a2-100d-470b-9af0-d573898ea66a",
   "metadata": {},
   "outputs": [],
   "source": [
    "from llama_index.llms.deepseek import DeepSeek\n",
    "\n",
    "# you can also set DEEPSEEK_API_KEY in your environment variables\n",
    "llm = DeepSeek(model=\"deepseek-chat\", api_key=\"sk-7fe9a5edf1f64ff5a748b2509e4fb34d\")\n",
    "\n",
    "# You might also want to set deepseek as your default llm\n",
    "# from llama_index.core import Settings\n",
    "# Settings.llm = llm"
   ]
  },
  {
   "cell_type": "code",
   "execution_count": 17,
   "id": "8ef7f4e1-2928-456b-a2fa-8a017dcfae48",
   "metadata": {},
   "outputs": [],
   "source": [
    "response = llm.complete(\"Is 9.9 or 9.11 bigger?\")"
   ]
  },
  {
   "cell_type": "code",
   "execution_count": 18,
   "id": "dd2ed1fa-f81e-4d8a-acda-92ab03bebfbe",
   "metadata": {},
   "outputs": [
    {
     "name": "stdout",
     "output_type": "stream",
     "text": [
      "To determine which number is larger between **9.9** and **9.11**, let's compare them step by step.\n",
      "\n",
      "1. **Align the Decimal Places:**\n",
      "   \n",
      "   - **9.9** can be written as **9.90** to have the same number of decimal places as **9.11**.\n",
      "   \n",
      "   \\[\n",
      "   \\begin{align*}\n",
      "   9.9 & = 9.90 \\\\\n",
      "   9.11 & = 9.11 \\\\\n",
      "   \\end{align*}\n",
      "   \\]\n",
      "\n",
      "2. **Compare the Numbers Digit by Digit:**\n",
      "   \n",
      "   - **Units Place:** Both numbers have **9** in the units place.\n",
      "   - **Tenths Place:** \n",
      "     - **9.90** has **9** in the tenths place.\n",
      "     - **9.11** has **1** in the tenths place.\n",
      "   \n",
      "   Since **9** (from 9.90) is greater than **1** (from 9.11) in the tenths place, **9.90** is greater than **9.11**.\n",
      "\n",
      "3. **Conclusion:**\n",
      "   \n",
      "   \\[\n",
      "   \\boxed{9.9 \\text{ is larger than } 9.11}\n",
      "   \\]\n",
      "\n",
      "**Final Answer:** \\boxed{9.9}\n"
     ]
    }
   ],
   "source": [
    "print(response)"
   ]
  },
  {
   "cell_type": "code",
   "execution_count": 5,
   "id": "d545c555-e7b3-4c84-b7c1-97a448c3dfc4",
   "metadata": {},
   "outputs": [],
   "source": [
    "from llama_index.core.tools import FunctionTool\n",
    "from research_agent.core.mysql_utils import MySQL\n",
    "my_sql = MySQL()"
   ]
  },
  {
   "cell_type": "code",
   "execution_count": 6,
   "id": "e33375c1-1099-4f37-b018-e000b24ee490",
   "metadata": {},
   "outputs": [],
   "source": [
    "input_patent_into_mysql_tool = FunctionTool.from_defaults(fn=my_sql.create_table_and_import_excel_to_mysql)\n",
    "query_patent_from_mysql_tool = FunctionTool.from_defaults(fn=my_sql.execute_query_to_markdown)"
   ]
  },
  {
   "cell_type": "code",
   "execution_count": 7,
   "id": "81956b71-0ef6-4181-82a3-3609fcba4e6a",
   "metadata": {},
   "outputs": [],
   "source": [
    "from llama_index.core.agent import FunctionCallingAgentWorker\n",
    "from llama_index.core.agent import AgentRunner\n",
    "\n",
    "agent_worker = FunctionCallingAgentWorker.from_tools(\n",
    "    [input_patent_into_mysql_tool, query_patent_from_mysql_tool], \n",
    "    llm=llm, \n",
    "    verbose=True\n",
    ")\n",
    "agent = AgentRunner(agent_worker)"
   ]
  },
  {
   "cell_type": "code",
   "execution_count": 8,
   "id": "5321df72-05a6-4d73-a487-9a4ff90b5ed4",
   "metadata": {},
   "outputs": [
    {
     "name": "stdout",
     "output_type": "stream",
     "text": [
      "Added user message to memory: 我现在有个实验动物领域的专利数据集，放在'C:\\Users\\admin\\patent_survey_draft\\20250320012345555.XLSX'中,请将此数据集存放到数据库中，并从中获取相关专利数据，以回答问题'实验动物领域专利申请总量在申请年/公开年维度上的历史趋势及阶段性特征如何？'\n",
      "=== Calling Function ===\n",
      "Calling function: create_table_and_import_excel_to_mysql with args: {\"excel_file\": \"C:\\\\Users\\\\admin\\\\patent_survey_draft\\\\20250320012345555.XLSX\", \"table_name\": \"patent_data\"}\n"
     ]
    },
    {
     "name": "stderr",
     "output_type": "stream",
     "text": [
      "C:\\Users\\admin\\anaconda3\\envs\\python_class_310\\lib\\site-packages\\openpyxl\\styles\\stylesheet.py:237: UserWarning: Workbook contains no default style, apply openpyxl's default\n",
      "  warn(\"Workbook contains no default style, apply openpyxl's default\")\n"
     ]
    },
    {
     "name": "stdout",
     "output_type": "stream",
     "text": [
      "=== Function Output ===\n",
      "Table 'patent_data' created and data from 'C:\\Users\\admin\\patent_survey_draft\\20250320012345555.XLSX' has been successfully imported.\n",
      "=== Calling Function ===\n",
      "Calling function: execute_query_to_markdown with args: {\"sql\": \"SELECT COUNT(*) AS total_patents, application_year, publication_year FROM patent_data GROUP BY application_year, publication_year ORDER BY application_year, publication_year\"}\n",
      "=== Function Output ===\n",
      "数据库操作异常: (1054, \"Unknown column 'application_year' in 'field list'\")\n",
      "=== Calling Function ===\n",
      "Calling function: execute_query_to_markdown with args: {\"sql\": \"SELECT * FROM patent_data LIMIT 1\"}\n",
      "=== Function Output ===\n",
      "| 序号 | 公开(公告)号 | 标题 | 发明人 | 当前申请(专利权)人 | 标题(译)(简体中文) | [标]当前申请(专利权)人 | 受理局 | 申请年 | 公开(公告)年 | 授权年 | IPC主分类号 | IPC分类号 | 法律状态/事件 | 简单法律状态 | 当前申请(专利权)人国家 | 原始申请(专利权)人国家 | [标]技术功效短语 | 技术领域 | 第一发明人 | [标]当前申请(专利权)人类型 | 简单同族编号 | 简单同族专利申请数量 |\n",
      "| --- | --- | --- | --- | --- | --- | --- | --- | --- | --- | --- | --- | --- | --- | --- | --- | --- | --- | --- | --- | --- | --- | --- |\n",
      "  | 王振 | 医院 | 381099905 | 1 |射给药工具 | 王振 | 张丽丽 | 马艳粉 | 钱双双 | 毛俊 | 杨芬 | 杭州市第一人民医院(西湖大学附属杭州市第一人民医院) | 实验动物的鞘内注射给药工具 | 杭州市第一人民医院(西湖大学附属杭州市第一人民医院) | 中国 | 2025 | 2025 | - | A61D7/00 | A61D7/00 | A61M5/42 | 公开 | 审中 | CN | CN | 插接准确|降低错误率|降低受伤风险|提高通用性|提高实用性|减少药物浪费|提高准确性|提高可靠性 | [0001]本发明涉及实验动物医疗器械技术领域，具体为实验动物的鞘内注射给药工具。\n",
      "=== Calling Function ===\n",
      "Calling function: execute_query_to_markdown with args: {\"sql\": \"SELECT COUNT(*) AS total_patents, `\\u7533\\u8bf7\\u5e74`, `\\u516c\\u5f00(\\u516c\\u544a)\\u5e74` FROM patent_data GROUP BY `\\u7533\\u8bf7\\u5e74`, `\\u516c\\u5f00(\\u516c\\u544a)\\u5e74` ORDER BY `\\u7533\\u8bf7\\u5e74`, `\\u516c\\u5f00(\\u516c\\u544a)\\u5e74`\"}\n",
      "=== Function Output ===\n",
      "| total_patents | 申请年 | 公开(公告)年 |\n",
      "| --- | --- | --- |\n",
      "| 1 | 1989 | 1989 |\n",
      "| 1 | 1991 | 2001 |\n",
      "| 1 | 1992 | 2001 |\n",
      "| 1 | 1994 | 2005 |\n",
      "| 2 | 1995 | 1997 |\n",
      "| 1 | 1996 | 1998 |\n",
      "| 1 | 1996 | 1999 |\n",
      "| 1 | 1996 | 2000 |\n",
      "| 1 | 1996 | 2008 |\n",
      "| 1 | 1997 | 1998 |\n",
      "| 1 | 1997 | 1999 |\n",
      "| 1 | 1997 | 2001 |\n",
      "| 2 | 1998 | 1998 |\n",
      "| 1 | 1998 | 2000 |\n",
      "| 1 | 1998 | 2004 |\n",
      "| 1 | 1998 | 2005 |\n",
      "| 1 | 1999 | 2000 |\n",
      "| 2 | 1999 | 2001 |\n",
      "| 1 | 2000 | 2001 |\n",
      "| 3 | 2000 | 2002 |\n",
      "| 3 | 2000 | 2003 |\n",
      "| 1 | 2000 | 2004 |\n",
      "| 2 | 2000 | 2005 |\n",
      "| 2 | 2000 | 2006 |\n",
      "| 1 | 2000 | 2007 |\n",
      "| 1 | 2000 | 2008 |\n",
      "| 1 | 2000 | 2009 |\n",
      "| 1 | 2001 | 2001 |\n",
      "| 1 | 2001 | 2003 |\n",
      "| 3 | 2001 | 2004 |\n",
      "| 1 | 2001 | 2005 |\n",
      "| 1 | 2001 | 2006 |\n",
      "| 2 | 2001 | 2010 |\n",
      "| 1 | 2002 | 2003 |\n",
      "| 1 | 2002 | 2004 |\n",
      "| 4 | 2002 | 2005 |\n",
      "| 3 | 2002 | 2008 |\n",
      "| 1 | 2002 | 2009 |\n",
      "| 1 | 2002 | 2013 |\n",
      "| 1 | 2003 | 2003 |\n",
      "| 2 | 2003 | 2004 |\n",
      "| 5 | 2003 | 2005 |\n",
      "| 3 | 2003 | 2006 |\n",
      "| 1 | 2003 | 2007 |\n",
      "| 1 | 2003 | 2008 |\n",
      "| 1 | 2003 | 2010 |\n",
      "| 1 | 2003 | 2012 |\n",
      "| 1 | 2003 | 2017 |\n",
      "| 4 | 2004 | 2005 |\n",
      "| 6 | 2004 | 2006 |\n",
      "| 7 | 2004 | 2007 |\n",
      "| 1 | 2004 | 2008 |\n",
      "| 2 | 2004 | 2011 |\n",
      "| 2 | 2004 | 2012 |\n",
      "| 1 | 2004 | 2013 |\n",
      "| 4 | 2005 | 2007 |\n",
      "| 1 | 2005 | 2009 |\n",
      "| 2 | 2006 | 2007 |\n",
      "| 2 | 2006 | 2008 |\n",
      "| 2 | 2007 | 2007 |\n",
      "| 4 | 2007 | 2008 |\n",
      "| 3 | 2007 | 2009 |\n",
      "| 1 | 2007 | 2011 |\n",
      "| 1 | 2007 | 2015 |\n",
      "| 2 | 2008 | 2008 |\n",
      "| 5 | 2008 | 2009 |\n",
      "| 4 | 2008 | 2010 |\n",
      "| 2 | 2008 | 2011 |\n",
      "| 1 | 2009 | 2009 |\n",
      "| 11 | 2009 | 2010 |\n",
      "| 2 | 2009 | 2011 |\n",
      "| 1 | 2009 | 2013 |\n",
      "| 1 | 2009 | 2017 |\n",
      "| 1 | 2010 | 2010 |\n",
      "| 14 | 2010 | 2011 |\n",
      "| 5 | 2010 | 2012 |\n",
      "| 1 | 2010 | 2013 |\n",
      "| 1 | 2010 | 2014 |\n",
      "| 1 | 2010 | 2016 |\n",
      "| 9 | 2011 | 2011 |\n",
      "| 7 | 2011 | 2012 |\n",
      "| 2 | 2011 | 2013 |\n",
      "| 1 | 2011 | 2014 |\n",
      "| 3 | 2011 | 2015 |\n",
      "| 8 | 2012 | 2012 |\n",
      "| 7 | 2012 | 2013 |\n",
      "| 6 | 2012 | 2014 |\n",
      "| 3 | 2012 | 2015 |\n",
      "| 1 | 2012 | 2017 |\n",
      "| 8 | 2013 | 2013 |\n",
      "| 11 | 2013 | 2014 |\n",
      "| 10 | 2013 | 2015 |\n",
      "| 2 | 2013 | 2016 |\n",
      "| 9 | 2014 | 2014 |\n",
      "| 6 | 2014 | 2015 |\n",
      "| 6 | 2014 | 2016 |\n",
      "| 23 | 2015 | 2015 |\n",
      "| 11 | 2015 | 2016 |\n",
      "| 5 | 2015 | 2017 |\n",
      "| 1 | 2015 | 2020 |\n",
      "| 21 | 2016 | 2016 |\n",
      "| 32 | 2016 | 2017 |\n",
      "| 6 | 2016 | 2018 |\n",
      "| 1 | 2016 | 2019 |\n",
      "| 1 | 2016 | 2020 |\n",
      "| 1 | 2016 | 2023 |\n",
      "| 10 | 2017 | 2017 |\n",
      "| 22 | 2017 | 2018 |\n",
      "| 19 | 2017 | 2019 |\n",
      "| 3 | 2017 | 2023 |\n",
      "| 1 | 2017 | 2024 |\n",
      "| 19 | 2018 | 2018 |\n",
      "| 46 | 2018 | 2019 |\n",
      "| 11 | 2018 | 2020 |\n",
      "| 6 | 2018 | 2021 |\n",
      "| 2 | 2018 | 2022 |\n",
      "| 6 | 2018 | 2024 |\n",
      "| 9 | 2019 | 2019 |\n",
      "| 61 | 2019 | 2020 |\n",
      "| 11 | 2019 | 2021 |\n",
      "| 3 | 2019 | 2022 |\n",
      "| 4 | 2019 | 2023 |\n",
      "| 5 | 2019 | 2024 |\n",
      "| 21 | 2020 | 2020 |\n",
      "| 59 | 2020 | 2021 |\n",
      "| 4 | 2020 | 2022 |\n",
      "| 1 | 2020 | 2023 |\n",
      "| 5 | 2020 | 2024 |\n",
      "| 1 | 2020 | 2025 |\n",
      "| 37 | 2021 | 2021 |\n",
      "| 49 | 2021 | 2022 |\n",
      "| 11 | 2021 | 2023 |\n",
      "| 5 | 2021 | 2024 |\n",
      "| 44 | 2022 | 2022 |\n",
      "| 67 | 2022 | 2023 |\n",
      "| 10 | 2022 | 2024 |\n",
      "| 61 | 2023 | 2023 |\n",
      "| 73 | 2023 | 2024 |\n",
      "| 1 | 2023 | 2025 |\n",
      "| 71 | 2024 | 2024 |\n",
      "| 26 | 2024 | 2025 |\n",
      "| 1 | 2025 | 2025 |\n",
      "=== LLM Response ===\n",
      "根据查询结果，我们可以看到实验动物领域专利申请总量在申请年/公开年维度上的历史趋势及阶段性特征如下：\n",
      "\n",
      "1. **早期阶段（1989-2000年）**：专利申请量较低，每年只有1到3件专利申请。这一阶段的专利申请主要集中在1995年至2000年之间，其中1995年和2000年的专利申请量相对较高。\n",
      "\n",
      "2. **增长阶段（2001-2010年）**：从2001年开始，专利申请量开始逐渐增加，尤其是在2004年至2010年期间，每年的专利申请量显著增加。2009年和2010年是这一阶段的高峰期，分别有11件和14件专利申请。\n",
      "\n",
      "3. **快速发展阶段（2011-2020年）**：这一阶段的专利申请量呈现出快速增长的态势，尤其是在2015年至2020年期间，每年的专利申请量大幅增加。2016年和2020年是这一阶段的高峰期，分别有32件和59件专利申请。\n",
      "\n",
      "4. **高峰期（2021-2025年）**：从2021年开始，专利申请量达到了历史最高水平，尤其是在2022年和2023年，每年的专利申请量分别达到了67件和73件。预计到2025年，专利申请量将继续保持在高位。\n",
      "\n",
      "总结来说，实验动物领域的专利申请总量在申请年/公开年维度上呈现出明显的增长趋势，尤其是在2010年之后，专利申请量显著增加，显示出该领域技术的快速发展和创新活跃度。\n"
     ]
    }
   ],
   "source": [
    "response = agent.query(\n",
    "    r\"我现在有个实验动物领域的专利数据集，放在'C:\\Users\\admin\\patent_survey_draft\\20250320012345555.XLSX'中,请将此数据集存放到数据库中，并从中获取相关专利数据，以回答问题'实验动物领域专利申请总量在申请年/公开年维度上的历史趋势及阶段性特征如何？'\")\n"
   ]
  }
 ],
 "metadata": {
  "kernelspec": {
   "display_name": "Python 3 (ipykernel)",
   "language": "python",
   "name": "python3"
  },
  "language_info": {
   "codemirror_mode": {
    "name": "ipython",
    "version": 3
   },
   "file_extension": ".py",
   "mimetype": "text/x-python",
   "name": "python",
   "nbconvert_exporter": "python",
   "pygments_lexer": "ipython3",
   "version": "3.10.16"
  }
 },
 "nbformat": 4,
 "nbformat_minor": 5
}
